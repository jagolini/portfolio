{
  "nbformat": 4,
  "nbformat_minor": 0,
  "metadata": {
    "colab": {
      "provenance": []
    },
    "kernelspec": {
      "name": "python3",
      "display_name": "Python 3"
    },
    "language_info": {
      "name": "python"
    }
  },
  "cells": [
    {
      "cell_type": "code",
      "execution_count": null,
      "metadata": {
        "id": "a2UIKLqLww7P"
      },
      "outputs": [],
      "source": [
        "!pip install dlib\n",
        "!pip install imutils"
      ]
    },
    {
      "cell_type": "code",
      "source": [
        "from google.colab import drive\n",
        "drive.mount('/content/drive',force_remount=True)"
      ],
      "metadata": {
        "id": "iYu-G4WCw4JU"
      },
      "execution_count": null,
      "outputs": []
    },
    {
      "cell_type": "code",
      "source": [
        "import numpy as np\n",
        "import os\n",
        "import imutils\n",
        "import dlib\n",
        "import cv2\n",
        "\n",
        "import imageio\n",
        "from imutils import face_utils"
      ],
      "metadata": {
        "id": "Py-TEjtqw6Y-"
      },
      "execution_count": null,
      "outputs": []
    },
    {
      "cell_type": "code",
      "source": [
        "from google.colab import drive\n",
        "import os\n",
        "import pandas as pd\n",
        "\n",
        "drive.mount('/content/drive',force_remount=True)\n",
        "\n",
        "\n",
        "dataset_path = '/content/drive/My Drive/dsproj/ads_proj_data/ads_proj_data/dataset/dataset'\n",
        "\n",
        "if not os.path.exists(dataset_path):\n",
        "    raise FileNotFoundError(f\"The specified path '{dataset_path}' does not exist.\")\n",
        "\n",
        "files = os.listdir(dataset_path)\n",
        "print(f\"Files in the dataset folder: {files}\")\n"
      ],
      "metadata": {
        "id": "t5QklEPbw9MN"
      },
      "execution_count": null,
      "outputs": []
    },
    {
      "cell_type": "code",
      "source": [
        "\n",
        "os.listdir('/content/drive/My Drive/dsproj/ads_proj_data/ads_proj_data/dataset/dataset')\n",
        "predictor = dlib.shape_predictor('/content/drive/My Drive/dsproj/ads_proj_data/ads_proj_data/shape_predictor_68_face_landmarks.dat')"
      ],
      "metadata": {
        "id": "D_rvscj5w9oP"
      },
      "execution_count": null,
      "outputs": []
    },
    {
      "cell_type": "code",
      "source": [
        "people = ['F01','F02','F04','F05','F06','F07','F08','F09', 'F10','F11','M01','M02','M04','M07','M08']\n",
        "#people = ['F01']\n",
        "data_types = ['words']\n",
        "folder = ['01','02','03','04','05','06','07','08', '09', '10']\n",
        "instances = ['01','02','03','04','05','06','07','08', '09', '10']\n",
        "\n",
        "words = ['Begin', 'Choose', 'Connection', 'Navigation', 'Next', 'Previous', 'Start', 'Stop', 'Hello', 'Web']\n",
        "words_di = {i:words[i] for i in range(len(words))}"
      ],
      "metadata": {
        "id": "kq2KpnqaxDPl"
      },
      "execution_count": null,
      "outputs": []
    },
    {
      "cell_type": "code",
      "source": [
        "from skimage.transform import resize\n",
        "import time"
      ],
      "metadata": {
        "id": "n2GG4YbaxEmB"
      },
      "execution_count": null,
      "outputs": []
    },
    {
      "cell_type": "code",
      "source": [
        "import numpy as np\n",
        "import os\n",
        "import imageio\n",
        "from skimage.transform import resize\n",
        "import time\n",
        "\n",
        "\n",
        "MAX_WIDTH = 100\n",
        "MAX_HEIGHT = 100\n",
        "max_seq_length = 22\n",
        "\n",
        "\n",
        "darkness_factor = 0.7\n",
        "\n",
        "t1 = time.time()\n",
        "\n",
        "UNSEEN_VALIDATION_SPLIT = []\n",
        "UNSEEN_TEST_SPLIT = []\n",
        "\n",
        "directory = '/content/drive/My Drive/dsproj/ads_proj_data/ads_proj_data/dataset/dataset/'\n",
        "\n",
        "# Initialize empty lists for data and labels\n",
        "X_train, y_train = [], []\n",
        "X_val, y_val = [], []\n",
        "X_test, y_test = [], []\n",
        "\n",
        "def simulate_low_light(image, factor=0.7):\n",
        "    # Reduce pixel values to simulate low-light conditions\n",
        "    dark_image = factor * image\n",
        "    dark_image = np.clip(dark_image, 0, 255).astype(np.uint8)\n",
        "    return dark_image\n",
        "\n",
        "def random_flip(image):\n",
        "    # Randomly flip the image horizontally\n",
        "    if np.random.rand() < 0.5:\n",
        "        return np.fliplr(image)\n",
        "    return image\n",
        "\n",
        "def pad_or_truncate(sequence):\n",
        "    if len(sequence) < max_seq_length:\n",
        "        pad_array = np.zeros((max_seq_length - len(sequence), MAX_WIDTH, MAX_HEIGHT, 3), dtype=np.uint8)\n",
        "        sequence = np.concatenate([sequence, pad_array])\n",
        "    elif len(sequence) > max_seq_length:\n",
        "        sequence = sequence[:max_seq_length]\n",
        "    return sequence\n",
        "\n",
        "for person_id in people:\n",
        "    tx1 = time.time()\n",
        "    for data_type in data_types:\n",
        "        for word_index, word in enumerate(folder):\n",
        "            for iteration in instances:\n",
        "                path = os.path.join(directory, person_id, data_type, word, iteration)\n",
        "                filelist = sorted(os.listdir(path + '/'))\n",
        "                sequence = []\n",
        "                for img_name in filelist:\n",
        "                    if img_name.startswith('color'):\n",
        "                        image = imageio.imread(path + '/' + img_name)\n",
        "                        image = resize(image, (MAX_WIDTH, MAX_HEIGHT))\n",
        "                        image = 255 * image\n",
        "                        image = image.astype(np.uint8)\n",
        "\n",
        "                        # Simulate low-light conditions\n",
        "                        dark_image = simulate_low_light(image, darkness_factor)\n",
        "\n",
        "                        # Apply random flip\n",
        "                        flipped_image = random_flip(dark_image)\n",
        "\n",
        "                        sequence.append(flipped_image)\n",
        "\n",
        "                # Pad or truncate the sequence to a uniform length\n",
        "                if person_id in UNSEEN_TEST_SPLIT:\n",
        "                    X_test.append(pad_or_truncate(sequence))\n",
        "                    y_test.append(word_index)\n",
        "                elif person_id in UNSEEN_VALIDATION_SPLIT:\n",
        "                    X_val.append(pad_or_truncate(sequence))\n",
        "                    y_val.append(word_index)\n",
        "                else:\n",
        "                    X_train.append(pad_or_truncate(sequence))\n",
        "                    y_train.append(word_index)\n",
        "    tx2 = time.time()\n",
        "    print(f'Finished reading images for person {person_id}. Time taken : {tx2 - tx1} secs.')\n",
        "\n",
        "X_train = np.array(X_train)\n",
        "X_val = np.array(X_val)\n",
        "X_test = np.array(X_test)\n",
        "y_train = np.array(y_train)\n",
        "y_val = np.array(y_val)\n",
        "y_test = np.array(y_test)\n",
        "\n",
        "t2 = time.time()\n",
        "print(f\"Time taken for creating constant size 3D Tensors from those cropped lip regions: {t2 - t1} secs.\")\n"
      ],
      "metadata": {
        "id": "Fr5vS59kxH3g"
      },
      "execution_count": null,
      "outputs": []
    }
  ]
}
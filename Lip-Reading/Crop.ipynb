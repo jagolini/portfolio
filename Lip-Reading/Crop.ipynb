{
  "nbformat": 4,
  "nbformat_minor": 0,
  "metadata": {
    "colab": {
      "provenance": []
    },
    "kernelspec": {
      "name": "python3",
      "display_name": "Python 3"
    },
    "language_info": {
      "name": "python"
    }
  },
  "cells": [
    {
      "cell_type": "code",
      "execution_count": null,
      "metadata": {
        "id": "cZRrTxSOuz8t"
      },
      "outputs": [],
      "source": [
        "def rect_to_bb(rect):\n",
        "\n",
        "    x = rect.left()\n",
        "    y = rect.top()\n",
        "    w = rect.right() - x\n",
        "    h = rect.bottom() - y\n",
        "\n",
        "    return (x, y, w, h)\n",
        "\n",
        "def shape_to_np(shape, dtype=\"int\"):\n",
        "\n",
        "    coords = np.zeros((68, 2), dtype=dtype)\n",
        "\n",
        "    # loop over the 68 facial landmarks and convert them\n",
        "    # to a 2-tuple of (x, y)-coordinates\n",
        "    for i in range(0, 68):\n",
        "    \tcoords[i] = (shape.part(i).x, shape.part(i).y)\n",
        "\n",
        "    # return the list of (x, y)-coordinates\n",
        "    return coords"
      ]
    },
    {
      "cell_type": "code",
      "source": [
        "def save(img, img_path, write_img_path, img_name):\n",
        "    detector = dlib.get_frontal_face_detector()\n",
        "    predictor = dlib.shape_predictor('/content/drive/My Drive/dsproj/ads_proj_data/ads_proj_data/shape_predictor_68_face_landmarks.dat')\n",
        "\n",
        "\n",
        "    image = cv2.imread(img_path)\n",
        "    image = imutils.resize(image, width=500)\n",
        "    gray = cv2.cvtColor(image, cv2.COLOR_BGR2GRAY)\n",
        "\n",
        "\n",
        "    rects = detector(gray, 1)\n",
        "    if len(rects) > 1:\n",
        "    \tprint( \"ERROR: more than one face detected\")\n",
        "    \treturn\n",
        "    if len(rects) < 1:\n",
        "    \tprint( \"ERROR: no faces detected\")\n",
        "    \treturn\n",
        "\n",
        "    for (i, rect) in enumerate(rects):\n",
        "        shape = predictor(gray, rect)\n",
        "        shape = face_utils.shape_to_np(shape)\n",
        "        name, i, j = 'mouth', 48, 68\n",
        "        clone = gray.copy()\n",
        "\n",
        "        (x, y, w, h) = cv2.boundingRect(np.array([shape[i:j]]))\n",
        "        roi = gray[y:y+h, x:x+w]\n",
        "        roi = imutils.resize(roi, width = 250, inter=cv2.INTER_CUBIC)\n",
        "        print('cropped/cropped/' + write_img_path)\n",
        "        cv2.imwrite('cropped/cropped/' + write_img_path, roi)"
      ],
      "metadata": {
        "id": "d7mQWSK1wfFQ"
      },
      "execution_count": null,
      "outputs": []
    },
    {
      "cell_type": "code",
      "source": [
        "import shutil\n",
        "\n",
        "def crop():\n",
        "\n",
        "    i = 1\n",
        "    for person_ID in people:\n",
        "        if not os.path.exists('cropped/cropped/' + person_ID ):\n",
        "            os.mkdir('cropped/cropped/' + person_ID + '/')\n",
        "\n",
        "        for dt in dts:\n",
        "            if not os.path.exists('cropped/cropped/' + person_ID + '/' + dt):\n",
        "                os.mkdir('cropped/cropped/' + person_ID + '/' + dt)\n",
        "\n",
        "            for phrase_ID in folder_enum:\n",
        "                if not os.path.exists('cropped/cropped/' + person_ID + '/' + dt + '/' + phrase_ID):\n",
        "\n",
        "                    os.mkdir('cropped/cropped/' + person_ID + '/' + dt + '/' + phrase_ID)\n",
        "\n",
        "                for instance_ID in instances:\n",
        "\n",
        "                    directory = '/content/drive/My Drive/dsproj/ads_proj_data/ads_proj_data' + '/' + person_ID + '/' + dt + '/' + phrase_ID + '/' + instance_ID + '/'\n",
        "                    dir_temp = person_ID + '/' + dt + '/' + phrase_ID + '/' + instance_ID + '/'\n",
        "\n",
        "                    filelist = os.listdir(directory)\n",
        "                    if not os.path.exists('cropped/cropped/' + person_ID + '/' + dt + '/' + phrase_ID + '/' + instance_ID):\n",
        "                        os.mkdir('cropped/cropped/' + person_ID + '/' + dt + '/' + phrase_ID + '/' + instance_ID)\n",
        "\n",
        "                        for img_name in filelist:\n",
        "                            if img_name.startswith('color'):\n",
        "                                image = imageio.imread(directory + '' + img_name)\n",
        "                                save(image, directory + '' + img_name,\n",
        "                                                    dir_temp + '' + img_name, img_name)\n",
        "\n",
        "    print(f'Iteration : {i}')\n",
        "    i += 1\n",
        "    shutil.rmtree('cropped')"
      ],
      "metadata": {
        "id": "fU_xTF1gwrAI"
      },
      "execution_count": null,
      "outputs": []
    },
    {
      "cell_type": "code",
      "source": [
        "import time\n",
        "#os.mkdir('cropped')\n",
        "times = 0\n",
        "for _ in range(7):\n",
        "    t1 = time.time()\n",
        "    crop()\n",
        "    t2 = time.time()\n",
        "    times += (t2 - t1)\n",
        "\n",
        "print(\"Average time over 7 iterations : \", times/7)"
      ],
      "metadata": {
        "id": "zYf-TS5LwriE"
      },
      "execution_count": null,
      "outputs": []
    }
  ]
}
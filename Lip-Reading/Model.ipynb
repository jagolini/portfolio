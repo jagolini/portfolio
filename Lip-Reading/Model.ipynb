{
  "nbformat": 4,
  "nbformat_minor": 0,
  "metadata": {
    "colab": {
      "provenance": []
    },
    "kernelspec": {
      "name": "python3",
      "display_name": "Python 3"
    },
    "language_info": {
      "name": "python"
    }
  },
  "cells": [
    {
      "cell_type": "code",
      "execution_count": null,
      "metadata": {
        "id": "fkbZmjSmzaRJ"
      },
      "outputs": [],
      "source": [
        "#IMPORTANT: USE ONLY IF NECCESARY\n",
        "\n",
        "from sklearn.model_selection import train_test_split\n",
        "\n",
        "# Assuming X_train and y_train are your original data\n",
        "# Set the test_size and validation_size according to your needs\n",
        "test_size = 0.2  # 80% training, 20% test\n",
        "validation_size = 0.2  # 80% training, 20% validation\n",
        "random_seed = 42  # for reproducibility\n",
        "\n",
        "# Split into training and test sets\n",
        "X_train, X_test, y_train, y_test = train_test_split(X_train, y_train, test_size=test_size, random_state=random_seed)\n",
        "\n",
        "# Split training set into training and validation sets\n",
        "X_train, X_val, y_train, y_val = train_test_split(X_train, y_train, test_size=validation_size, random_state=random_seed)"
      ]
    },
    {
      "cell_type": "code",
      "source": [
        "def normalize(X):\n",
        "    v_min = X.min(axis=(2, 3), keepdims=True)\n",
        "    v_max = X.max(axis=(2, 3), keepdims=True)\n",
        "\n",
        "    # Calculate the range and replace zero values with epsilon to avoid division by zero\n",
        "    range_values = np.where((v_max - v_min) == 0, np.finfo(float).eps, v_max - v_min)\n",
        "\n",
        "    # Normalize the data\n",
        "    X_normalized = np.where(range_values == 0, 0, (X - v_min) / range_values)\n",
        "\n",
        "    return X_normalized"
      ],
      "metadata": {
        "id": "vOvi31VUztPl"
      },
      "execution_count": null,
      "outputs": []
    },
    {
      "cell_type": "code",
      "source": [
        "from keras.utils import to_categorical\n",
        "X_train = normalize(X_train)\n",
        "X_val = normalize(X_val)\n",
        "X_test = normalize(X_test)\n",
        "\n",
        "y_train = to_categorical(y_train, 10)\n",
        "y_test = to_categorical(y_test, 10)\n",
        "y_val = to_categorical(y_val, 10)\n",
        "\n",
        "from sklearn.utils import shuffle\n",
        "X_train, y_train = shuffle(X_train, y_train, random_state=0)\n",
        "X_test, y_test = shuffle(X_test, y_test, random_state=0)\n",
        "X_val, y_val = shuffle(X_val, y_val, random_state=0)"
      ],
      "metadata": {
        "id": "tO6uQ3-izu-V"
      },
      "execution_count": null,
      "outputs": []
    },
    {
      "cell_type": "code",
      "source": [
        "#ONLY IF NECCESARY\n",
        "X_train = np.expand_dims(X_train, axis=4)\n",
        "X_val = np.expand_dims(X_val, axis=4)\n",
        "X_test = np.expand_dims(X_test, axis=4)"
      ],
      "metadata": {
        "id": "DgzAAQ0fzxDc"
      },
      "execution_count": null,
      "outputs": []
    },
    {
      "cell_type": "code",
      "source": [
        "from tensorflow.keras.layers import Conv2D, Dense, Dropout, Flatten, Activation, ZeroPadding3D, TimeDistributed, LSTM, GRU, Reshape\n",
        "from tensorflow.keras.models import Sequential\n",
        "from tensorflow.keras.layers import BatchNormalization\n",
        "from tensorflow.keras.utils import plot_model\n",
        "import matplotlib.pyplot as plt\n",
        "from tensorflow.keras.layers import Conv3D, MaxPooling3D"
      ],
      "metadata": {
        "id": "6tQfuViczzgJ"
      },
      "execution_count": null,
      "outputs": []
    },
    {
      "cell_type": "code",
      "source": [
        "from tensorflow.keras.callbacks import EarlyStopping\n",
        "\n",
        "# Define early stopping callback\n",
        "early_stopping = EarlyStopping(monitor='val_loss', patience=10, restore_best_weights=True)\n",
        "\n",
        "\n",
        "model_adam_lstm = Sequential()\n",
        "\n",
        "# Conv3D layers\n",
        "model_adam_lstm.add(Conv3D(64, (3, 3, 3), strides=1, input_shape=(22, 100, 100, 3), activation='relu', padding='valid'))\n",
        "model_adam_lstm.add(MaxPooling3D(pool_size=(2, 2, 2), strides=2))\n",
        "\n",
        "model_adam_lstm.add(Conv3D(128, (3, 3, 3), activation='relu', strides=1))\n",
        "model_adam_lstm.add(MaxPooling3D(pool_size=(2, 2, 2), strides=2))\n",
        "\n",
        "model_adam_lstm.add(Conv3D(256, (2, 2, 2), activation='relu', strides=1))\n",
        "model_adam_lstm.add(MaxPooling3D(pool_size=(2, 2, 2), strides=2))\n",
        "\n",
        "model_adam_lstm.add(Conv3D(512, (1, 1, 1), activation='relu', strides=1))\n",
        "model_adam_lstm.add(MaxPooling3D(pool_size=(1, 1, 1), strides=2))\n",
        "\n",
        "# Reshape output before LSTM layer\n",
        "model_adam_lstm.add(Reshape((-1, 512)))  # Reshape to (timesteps, features)\n",
        "\n",
        "# LSTM layer\n",
        "model_adam_lstm.add(LSTM(50))  # You can adjust the number of LSTM units as needed\n",
        "\n",
        "# FC layers group\n",
        "model_adam_lstm.add(Dense(4096, activation='relu'))\n",
        "model_adam_lstm.add(Dropout(0.5))\n",
        "model_adam_lstm.add(Dense(2048, activation='relu'))\n",
        "model_adam_lstm.add(Dropout(0.5))\n",
        "model_adam_lstm.add(Dense(1024, activation='relu'))\n",
        "model_adam_lstm.add(Dropout(0.5))\n",
        "model_adam_lstm.add(Dense(10, activation='softmax'))\n",
        "\n",
        "model_adam_lstm.compile(optimizer='adam', loss='categorical_crossentropy', metrics=['accuracy'])\n",
        "\n",
        "\n"
      ],
      "metadata": {
        "id": "UB1yu6Q2z74v"
      },
      "execution_count": null,
      "outputs": []
    },
    {
      "cell_type": "code",
      "source": [
        "epochs=200\n",
        "model_adam_lstm = model_adam_lstm.fit(X_train, y_train, epochs=epochs, validation_data=(X_val, y_val))\n",
        "plt.figure(figsize=(16, 8))\n",
        "\n",
        "plt.plot(model_adam_lstm.history['accuracy'], label='Training Accuracy')\n",
        "plt.plot(model_adam_lstm.history['val_accuracy'], label='Validation Accuracy')\n",
        "plt.title('CNN with LSTM')\n",
        "plt.xlabel('Epoch')\n",
        "plt.ylabel('Accuracy')\n",
        "plt.legend()\n"
      ],
      "metadata": {
        "id": "sMjFk0tsz8Wd"
      },
      "execution_count": null,
      "outputs": []
    }
  ]
}